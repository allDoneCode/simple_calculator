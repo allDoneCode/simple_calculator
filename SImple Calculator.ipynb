{
 "cells": [
  {
   "cell_type": "code",
   "execution_count": null,
   "id": "ef23a8cb",
   "metadata": {},
   "outputs": [],
   "source": [
    "print(\"Simple Addition Calculator\")"
   ]
  },
  {
   "cell_type": "code",
   "execution_count": 13,
   "id": "b25bcbe8",
   "metadata": {},
   "outputs": [
    {
     "name": "stdout",
     "output_type": "stream",
     "text": [
      "First number here:1\n"
     ]
    }
   ],
   "source": [
    "input_one=input(\"First number here:\" )"
   ]
  },
  {
   "cell_type": "code",
   "execution_count": null,
   "id": "663d73b0",
   "metadata": {},
   "outputs": [],
   "source": [
    "print(\"+\")"
   ]
  },
  {
   "cell_type": "code",
   "execution_count": 16,
   "id": "d846e597",
   "metadata": {},
   "outputs": [
    {
     "name": "stdout",
     "output_type": "stream",
     "text": [
      "Second number here 2.2\n"
     ]
    }
   ],
   "source": [
    "input_two=input(\"Second number here \" )"
   ]
  },
  {
   "cell_type": "code",
   "execution_count": 17,
   "id": "7f2362c0",
   "metadata": {},
   "outputs": [],
   "source": [
    "Sum=float(input_one)+float(input_two)"
   ]
  },
  {
   "cell_type": "code",
   "execution_count": 18,
   "id": "c9c76d1f",
   "metadata": {},
   "outputs": [
    {
     "name": "stdout",
     "output_type": "stream",
     "text": [
      "3.2\n"
     ]
    }
   ],
   "source": [
    "print(Sum)"
   ]
  },
  {
   "cell_type": "code",
   "execution_count": null,
   "id": "0930f304",
   "metadata": {},
   "outputs": [],
   "source": []
  }
 ],
 "metadata": {
  "kernelspec": {
   "display_name": "Python 3",
   "language": "python",
   "name": "python3"
  },
  "language_info": {
   "codemirror_mode": {
    "name": "ipython",
    "version": 3
   },
   "file_extension": ".py",
   "mimetype": "text/x-python",
   "name": "python",
   "nbconvert_exporter": "python",
   "pygments_lexer": "ipython3",
   "version": "3.8.8"
  }
 },
 "nbformat": 4,
 "nbformat_minor": 5
}
